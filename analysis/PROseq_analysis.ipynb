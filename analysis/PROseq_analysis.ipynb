{
 "cells": [
  {
   "cell_type": "code",
   "execution_count": 1,
   "metadata": {},
   "outputs": [],
   "source": [
    "import glob\n",
    "import os"
   ]
  },
  {
   "cell_type": "code",
   "execution_count": 2,
   "metadata": {},
   "outputs": [
    {
     "name": "stdout",
     "output_type": "stream",
     "text": [
      "Make sure PanGATA is in this list:  ['../data/MEF2C_guides.bed', '../data/NMU_guides.bed', '../data/PanGATA1_hg38_padded_guides.bed', '../data/CD164_guides.bed', '../data/LMO2_guides.bed', '../data/ATXN_guides.bed', '../data/FADS_hg38_guides.bed']\n",
      "Reading liftover chains\n",
      "Mapping coordinates\n"
     ]
    }
   ],
   "source": [
    "if os.path.isfile('../data/all_guides.bed'):\n",
    "    ! rm ../data/all_guides.bed\n",
    "\n",
    "guide_fns = glob.glob('../data/*guides.bed')\n",
    "print(\"Make sure PanGATA is in this list: \",guide_fns)\n",
    "\n",
    "all_files = \" \".join(guide_fns)\n",
    "! cat $all_files > ../data/all_guides.bed\n",
    "! cut -f1,2,3 ../data/all_guides.bed | sort -k1,1 -k2,2n | mergeBed -d 1000000 -i - > ../data/merged_target_area__hg38.bed\n",
    "! ~/ucsc_tools/liftOver ../data/merged_target_area__hg38.bed ../data/external/hg38ToHg19.over.chain.gz ../data/merged_target_area__hg19.bed ../data/merged_target_area__unMapped.bed\n",
    "! bedtools slop -i ../data/merged_target_area__hg19.bed -g ../data/external/hg19.chrom.sizes -b 500000 | mergeBed -d 1000000 -i - > ../data/merged_target_filter__hg19.bed"
   ]
  },
  {
   "cell_type": "code",
   "execution_count": 3,
   "metadata": {},
   "outputs": [
    {
     "name": "stdout",
     "output_type": "stream",
     "text": [
      "made BedGraphs from ../data/external/GSM1480327_K562_PROseq_minus.bw\n",
      "cat and sort BedGraphs into ../data/external/merged_targets__hg19__K562_PROseq_minus.bedGraph\n",
      "Reading liftover chains\n",
      "Mapping coordinates\n",
      "Lifted ../data/external/merged_targets__hg19__K562_PROseq_minus.bedGraph to ../data/external/merged_targets__hg38__K562_PROseq_minus.bedGraph\n",
      "Dumped to BigWig ../data/external/merged_targets__hg38__K562_PROseq_minus.bw\n",
      "Dumped to wiggle ../data/external/merged_targets__hg38__K562_PROseq_minus.wig\n",
      "made BedGraphs from ../data/external/GSM1480327_K562_PROseq_plus.bw\n",
      "cat and sort BedGraphs into ../data/external/merged_targets__hg19__K562_PROseq_plus.bedGraph\n",
      "Reading liftover chains\n",
      "Mapping coordinates\n",
      "Lifted ../data/external/merged_targets__hg19__K562_PROseq_plus.bedGraph to ../data/external/merged_targets__hg38__K562_PROseq_plus.bedGraph\n",
      "Dumped to BigWig ../data/external/merged_targets__hg38__K562_PROseq_plus.bw\n",
      "Dumped to wiggle ../data/external/merged_targets__hg38__K562_PROseq_plus.wig\n"
     ]
    }
   ],
   "source": [
    "with open('../data/merged_target_filter__hg19.bed', 'r') as f:\n",
    "    interval_list = [ [ int(field) if idx>0 else field \n",
    "                        for idx, field in enumerate(line.rstrip().split()) \n",
    "                      ] \n",
    "                     for line in f.readlines() \n",
    "                    ]\n",
    "\n",
    "for strand in ['minus','plus']:\n",
    "    hg19_bw = f'../data/external/GSM1480327_K562_PROseq_{strand}.bw'\n",
    "    hg19_bg = f'../data/external/merged_targets__hg19__K562_PROseq_{strand}.bedGraph'\n",
    "    hg38_bg = f'../data/external/merged_targets__hg38__K562_PROseq_{strand}.bedGraph'\n",
    "    unMap_fn= f'../data/external/merged_targets__unMapped__K562_PROseq_{strand}.bedGraph'\n",
    "    hg38_bw = f'../data/external/merged_targets__hg38__K562_PROseq_{strand}.bw'\n",
    "    hg38_wig= f'../data/external/merged_targets__hg38__K562_PROseq_{strand}.wig'\n",
    "    top_str = f\"track type=wiggle_0 name=PROseq_{strand}_strand\"\n",
    "    temp_files = []\n",
    "    for idx, interval in enumerate(interval_list):\n",
    "        tmp_fn = f'../data/external/tmp_{idx}.bedGraph'\n",
    "        temp_files.append(tmp_fn)\n",
    "        chrom, start, end = interval\n",
    "        ! ~/ucsc_tools/bigWigToBedGraph -chrom=$chrom $hg19_bw $tmp_fn\n",
    "    print(f\"made BedGraphs from {hg19_bw}\")\n",
    "    pack_temp = ' '.join(temp_files)\n",
    "    ! cat $pack_temp > trash.txt\n",
    "    ! sort -k1,1 -k2,2n trash.txt | intersectBed -u -a - -b ../data/merged_target_filter__hg19.bed > $hg19_bg\n",
    "    ! rm $pack_temp\n",
    "    ! rm trash.txt\n",
    "    print(f\"cat and sort BedGraphs into {hg19_bg}\")\n",
    "    ! ~/ucsc_tools/liftOver $hg19_bg ../data/external/hg19ToHg38.over.chain.gz trash.txt $unMap_fn \n",
    "    ! sort -k1,1 -k2,2n trash.txt | mergeBed -d -1 -c 4 -o mean -i - > $hg38_bg\n",
    "    ! rm trash.txt\n",
    "    print(f\"Lifted {hg19_bg} to {hg38_bg}\")\n",
    "    ! ~/ucsc_tools/bedGraphToBigWig $hg38_bg ../data/external/hg38.chrom.sizes $hg38_bw \n",
    "    print(f\"Dumped to BigWig {hg38_bw}\")\n",
    "    ! ~/ucsc_tools/bigWigToWig $hg38_bw $hg38_wig \n",
    "    print(f\"Dumped to wiggle {hg38_wig}\")\n",
    "    ! echo $top_str | cat - $hg38_wig > /tmp/out && mv /tmp/out $hg38_wig\n"
   ]
  }
 ],
 "metadata": {
  "kernelspec": {
   "display_name": "Python [conda env:casa] *",
   "language": "python",
   "name": "conda-env-casa-py"
  },
  "language_info": {
   "codemirror_mode": {
    "name": "ipython",
    "version": 3
   },
   "file_extension": ".py",
   "mimetype": "text/x-python",
   "name": "python",
   "nbconvert_exporter": "python",
   "pygments_lexer": "ipython3",
   "version": "3.7.3"
  }
 },
 "nbformat": 4,
 "nbformat_minor": 2
}
